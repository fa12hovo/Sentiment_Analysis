{
 "cells": [
  {
   "cell_type": "markdown",
   "id": "572026c5",
   "metadata": {},
   "source": [
    "## Examining the 'Mass shooting in the USA' using media discourse\n",
    "\n",
    "Can we identify any religious or racial bias? Examining the 'Mass shooting in the USA' using media discourse: Frequency Distribution and Sentiment Analysis.\n",
    "\n",
    "I wrote a paper on this issue. Beside codes, it is highly recommended to read the paper for your better understanding. "
   ]
  },
  {
   "cell_type": "code",
   "execution_count": 1,
   "id": "4963b46d",
   "metadata": {},
   "outputs": [],
   "source": [
    "# Importing required libraries\n",
    "import nltk\n",
    "from nltk import word_tokenize\n",
    "\n",
    "# Opening the file 'Bigdata.txt' in read mode with UTF-8 encoding\n",
    "with open(\"Bigdata.txt\", \"r\", encoding=\"utf-8\") as file:\n",
    "    # Reading the entire content of the file into a string variable 'data'\n",
    "    data = file.read()\n",
    "\n",
    "# Tokenization: Splitting the raw text into individual words (tokens)\n",
    "tokenized_raw_text = nltk.word_tokenize(data)\n",
    "\n",
    "# Converting the list of tokens into an nltk.Text object for further processing\n",
    "tokenized_text = nltk.Text(tokenized_raw_text)"
   ]
  },
  {
   "cell_type": "code",
   "execution_count": 2,
   "id": "c7d4c3dc",
   "metadata": {},
   "outputs": [
    {
     "data": {
      "text/plain": [
       "47326"
      ]
     },
     "execution_count": 2,
     "metadata": {},
     "output_type": "execute_result"
    }
   ],
   "source": [
    "#Total numbers of tokens\n",
    "len(tokenized_text)"
   ]
  },
  {
   "cell_type": "code",
   "execution_count": 3,
   "id": "f28c7917",
   "metadata": {},
   "outputs": [
    {
     "data": {
      "text/plain": [
       "38845"
      ]
     },
     "execution_count": 3,
     "metadata": {},
     "output_type": "execute_result"
    }
   ],
   "source": [
    "#Number of tokens after deleting puctuations\n",
    "text_removed_punc=[w.lower() for w in tokenized_text if w.isalpha()]\n",
    "len(text_removed_punc)"
   ]
  },
  {
   "cell_type": "code",
   "execution_count": 4,
   "id": "c0a13c9e",
   "metadata": {},
   "outputs": [],
   "source": [
    "# Import the stopwords module from the nltk.corpus\n",
    "from nltk.corpus import stopwords\n",
    "\n",
    "# Initialize an empty list to store words after removing stopwords\n",
    "final_text = []\n",
    "\n",
    "# Iterate over each word in the final_text_removed_punc list\n",
    "for word in text_removed_punc:\n",
    "    # Check if the word is not in the list of English stopwords\n",
    "    if word not in stopwords.words('english'):\n",
    "        # If the word is not a stopword, append it to the final_text list\n",
    "        final_text.append(word)"
   ]
  },
  {
   "cell_type": "code",
   "execution_count": 5,
   "id": "3aadb8f3",
   "metadata": {},
   "outputs": [
    {
     "data": {
      "text/plain": [
       "22816"
      ]
     },
     "execution_count": 5,
     "metadata": {},
     "output_type": "execute_result"
    }
   ],
   "source": [
    "#lenth of total token after removing stopword\n",
    "len(final_text)"
   ]
  },
  {
   "cell_type": "markdown",
   "id": "9aa438c8",
   "metadata": {},
   "source": [
    "### Showing Bigram plot with Frequency Distribution"
   ]
  },
  {
   "cell_type": "code",
   "execution_count": 6,
   "id": "5eaa6852",
   "metadata": {},
   "outputs": [
    {
     "data": {
      "text/plain": [
       "[(('mass', 'shootings'), 307),\n",
       " (('mass', 'shooting'), 156),\n",
       " (('gun', 'violence'), 122),\n",
       " (('people', 'killed'), 66),\n",
       " (('four', 'people'), 58),\n",
       " (('united', 'states'), 51),\n",
       " (('gun', 'control'), 47),\n",
       " (('gun', 'laws'), 41),\n",
       " (('people', 'shot'), 39),\n",
       " (('domestic', 'violence'), 36),\n",
       " (('law', 'enforcement'), 35),\n",
       " (('violence', 'archive'), 34),\n",
       " (('mental', 'health'), 33),\n",
       " (('police', 'said'), 32),\n",
       " (('assault', 'weapons'), 32),\n",
       " (('gun', 'deaths'), 31),\n",
       " (('high', 'school'), 28),\n",
       " (('elementary', 'school'), 26),\n",
       " (('opened', 'fire'), 25),\n",
       " (('shot', 'killed'), 25),\n",
       " (('background', 'checks'), 25),\n",
       " (('school', 'shooting'), 24),\n",
       " (('new', 'york'), 22),\n",
       " (('fatally', 'shot'), 22),\n",
       " (('five', 'people'), 21),\n",
       " (('background', 'check'), 21),\n",
       " (('gun', 'ownership'), 21),\n",
       " (('victims', 'photo'), 20),\n",
       " (('authorities', 'said'), 20),\n",
       " (('colorado', 'springs'), 20),\n",
       " (('people', 'including'), 19),\n",
       " (('uvalde', 'texas'), 18),\n",
       " (('three', 'people'), 17),\n",
       " (('six', 'people'), 17),\n",
       " (('defines', 'mass'), 17),\n",
       " (('sandy', 'hook'), 16),\n",
       " (('five', 'years'), 16),\n",
       " (('definition', 'mass'), 15),\n",
       " (('violence', 'incident'), 14),\n",
       " (('shootings', 'united'), 14),\n",
       " (('killed', 'people'), 14),\n",
       " (('family', 'members'), 14),\n",
       " (('las', 'vegas'), 14),\n",
       " (('warning', 'signs'), 14),\n",
       " (('weapons', 'magazines'), 14),\n",
       " (('second', 'amendment'), 14),\n",
       " (('people', 'injured'), 13),\n",
       " (('mass', 'killings'), 13),\n",
       " (('last', 'year'), 13),\n",
       " (('abc', 'news'), 13),\n",
       " (('associated', 'press'), 13),\n",
       " (('counts', 'murder'), 13),\n",
       " (('recent', 'years'), 13),\n",
       " (('killed', 'wounded'), 12),\n",
       " (('shootings', 'involved'), 12),\n",
       " (('number', 'mass'), 12),\n",
       " (('found', 'dead'), 12),\n",
       " (('many', 'people'), 12),\n",
       " (('kate', 'kasten'), 12),\n",
       " (('gun', 'safety'), 12),\n",
       " (('took', 'place'), 11),\n",
       " (('people', 'wounded'), 11),\n",
       " (('texas', 'may'), 11),\n",
       " (('victims', 'mass'), 11),\n",
       " (('shooting', 'incident'), 11),\n",
       " (('people', 'died'), 11),\n",
       " (('deadliest', 'mass'), 11),\n",
       " (('santa', 'fe'), 11),\n",
       " (('percent', 'mass'), 11),\n",
       " (('gun', 'murders'), 11),\n",
       " (('police', 'officer'), 10),\n",
       " (('robb', 'elementary'), 10),\n",
       " (('killed', 'injured'), 10),\n",
       " (('killed', 'three'), 10),\n",
       " (('police', 'officers'), 10),\n",
       " (('social', 'media'), 10),\n",
       " (('supreme', 'court'), 10),\n",
       " (('said', 'gunman'), 9),\n",
       " (('two', 'people'), 9),\n",
       " (('killed', 'including'), 9),\n",
       " (('incident', 'four'), 9),\n",
       " (('shooting', 'incidents'), 9),\n",
       " (('number', 'people'), 9),\n",
       " (('legally', 'purchased'), 9),\n",
       " (('mental', 'illness'), 9),\n",
       " (('killed', 'police'), 9),\n",
       " (('killed', 'shooting'), 9),\n",
       " (('county', 'sheriff'), 9),\n",
       " (('tree', 'life'), 9),\n",
       " (('life', 'synagogue'), 9),\n",
       " (('police', 'department'), 9),\n",
       " (('marjory', 'stoneman'), 9),\n",
       " (('stoneman', 'douglas'), 9),\n",
       " (('douglas', 'high'), 9),\n",
       " (('shooting', 'victims'), 9),\n",
       " (('enforcement', 'officers'), 9),\n",
       " (('thousand', 'oaks'), 9),\n",
       " (('least', 'four'), 9),\n",
       " (('violence', 'project'), 9),\n",
       " (('rates', 'mass'), 9)]"
      ]
     },
     "execution_count": 6,
     "metadata": {},
     "output_type": "execute_result"
    }
   ],
   "source": [
    "# Create a frequency distribution of bigrams (pairs of consecutive words) from the final_text list\n",
    "bigram_fd = nltk.FreqDist(nltk.bigrams(final_text))\n",
    "\n",
    "# Retrieve and print the 100 most common bigrams from the frequency distribution\n",
    "most_common_bigrams = bigram_fd.most_common(100)\n",
    "most_common_bigrams"
   ]
  },
  {
   "cell_type": "code",
   "execution_count": 7,
   "id": "b89128df",
   "metadata": {},
   "outputs": [
    {
     "data": {
      "image/png": "[encoded data removed]",
      "text/plain": [
       "<Figure size 2000x1000 with 1 Axes>"
      ]
     },
     "metadata": {},
     "output_type": "display_data"
    },
    {
     "data": {
      "text/plain": [
       "<AxesSubplot:xlabel='Samples', ylabel='Counts'>"
      ]
     },
     "execution_count": 7,
     "metadata": {},
     "output_type": "execute_result"
    }
   ],
   "source": [
    "# Import the matplotlib.pyplot library for plotting\n",
    "import matplotlib.pyplot as plt\n",
    "\n",
    "# Create a figure and axis object for the plot with a specified figure size\n",
    "fig, ax = plt.subplots(figsize=(20, 10))\n",
    "\n",
    "# Plot the 25 most common bigrams from the frequency distribution using the created axis\n",
    "bigram_fd.plot(25)"
   ]
  },
  {
   "cell_type": "markdown",
   "id": "c2c6e809",
   "metadata": {},
   "source": [
    "### Create word cloud image"
   ]
  },
  {
   "cell_type": "code",
   "execution_count": 8,
   "id": "ca9dfb9a",
   "metadata": {},
   "outputs": [],
   "source": [
    "# Import the stylecloud library for generating word clouds\n",
    "import stylecloud\n",
    "\n",
    "# Open the text file in append mode ('a' means append, 'w' means write)\n",
    "with open('stylecloudsake.txt', 'a') as f:\n",
    "    # Iterate over each word in the final_text list\n",
    "    for i in final_text:\n",
    "        # Write each word followed by a space to the file\n",
    "        f.write(i + \" \")\n",
    "        \n",
    "# Generate a stylecloud word cloud from the text file 'stylecloudsake.txt'\n",
    "# The icon_name specifies the shape of the word cloud\n",
    "# The size parameter sets the size of the output image\n",
    "# The output file will be saved with the default name 'stylecloud.png'\n",
    "stylecloud.gen_stylecloud(file_path=\"stylecloudsake.txt\", icon_name=\"fas fa-users\", size=(1024, 512))\n",
    "\n",
    "# After running this code, the image will be saved in the current working directory\n",
    "# as 'stylecloud.png'. You can find it there."
   ]
  },
  {
   "cell_type": "markdown",
   "id": "12879b64",
   "metadata": {},
   "source": [
    "### Classification of the text"
   ]
  },
  {
   "cell_type": "code",
   "execution_count": 9,
   "id": "f17cc666",
   "metadata": {},
   "outputs": [
    {
     "name": "stdout",
     "output_type": "stream",
     "text": [
      "Total positive words found:  2718\n",
      "Total negative words found:  4911\n"
     ]
    }
   ],
   "source": [
    "# Creating Positive & Negative word dictionaries from University of Pittsburgh MPQA corpus\n",
    "# The corpus can be found at: http://mpqa.cs.pitt.edu/lexicons/subj_lexicon/\n",
    "pos_words = []  # Initialize an empty list to store positive words\n",
    "neg_words = []  # Initialize an empty list to store negative words\n",
    "\n",
    "# Open the subjectivity clues file for reading\n",
    "with open(\"C:\\\\Users\\\\faroq\\\\OneDrive\\\\Desktop\\\\TU Darmstadt\\\\Computional Discourse Analysis\\\\Term Paper\\\\Ahmed_Faroque_Matrikel_Nr. 2622114_Computational_Linguistics_for_Discourse_Analysis\\\\subjectivity_clues_hltemnlp05\\\\subjclueslen1-HLTEMNLP05.tff\") as file:\n",
    "    # Iterate through each line in the file\n",
    "    for line in file:\n",
    "        # Split the line into attributes\n",
    "        line_attrib = line.split()\n",
    "        # Extract the word from the 3rd attribute (word1=<word>)\n",
    "        word = line_attrib[2].split('=')[1]  # 2nd column in the file\n",
    "        # Extract the polarity from the last attribute (priorpolarity=<polarity>)\n",
    "        polarity = line_attrib[-1].split('=')[1]  # Last column in the file\n",
    "        # Append the word to the appropriate list based on its polarity\n",
    "        if polarity == 'positive':\n",
    "            pos_words.append(word)\n",
    "        elif polarity == 'negative':\n",
    "            neg_words.append(word)\n",
    "\n",
    "# Print the total number of positive words found\n",
    "print('Total positive words found: ', len(pos_words))\n",
    "# Print the total number of negative words found\n",
    "print('Total negative words found: ', len(neg_words))"
   ]
  },
  {
   "cell_type": "code",
   "execution_count": 10,
   "id": "177e52f1",
   "metadata": {},
   "outputs": [],
   "source": [
    "pos_word_add = ['law', 'laws', 'policy', 'policies', 'enforcement', 'control', 'arrest']\n",
    "for term in pos_word_add:\n",
    "    pos_words.append(term)\n",
    "\n",
    "neg_word_add = ['shooting','shootings','shot', 'drug', 'drugs', 'fire', 'weapon', 'weapons', ]\n",
    "for term in neg_word_add:\n",
    "    neg_words.append(term)"
   ]
  },
  {
   "cell_type": "markdown",
   "id": "7331b6bc",
   "metadata": {},
   "source": [
    "### Counting positive and Negative words in our corpus"
   ]
  },
  {
   "cell_type": "code",
   "execution_count": 11,
   "id": "f04e6a91",
   "metadata": {},
   "outputs": [
    {
     "name": "stdout",
     "output_type": "stream",
     "text": [
      "Total positive words in our corpus: 1140\n",
      "Total positive words in our corpus: 2441\n"
     ]
    }
   ],
   "source": [
    "# Now we will compare words in the final_text with the dictionaries of positive and negative words\n",
    "# from the University of Pittsburgh MPQA corpus\n",
    "\n",
    "# Initialize empty lists to store positive and negative words found in final_text\n",
    "p_t = []  # List for positive words\n",
    "n_t = []  # List for negative words\n",
    "\n",
    "# Iterate through each word in the final_text\n",
    "for w in final_text:\n",
    "    # If the word is found in the positive words dictionary, add it to the p_t list\n",
    "    if w in pos_words:\n",
    "        p_t.append(w)\n",
    "\n",
    "# Iterate through each word in the final_text again\n",
    "for w in final_text:\n",
    "    # If the word is found in the negative words dictionary, add it to the n_t list\n",
    "    if w in neg_words:\n",
    "        n_t.append(w)\n",
    "\n",
    "print('Total positive words in our corpus:',len(p_t))\n",
    "print('Total positive words in our corpus:',len(n_t))"
   ]
  },
  {
   "cell_type": "markdown",
   "id": "8ec608c2",
   "metadata": {},
   "source": [
    "### Textblob ###"
   ]
  },
  {
   "cell_type": "code",
   "execution_count": 12,
   "id": "99b70f65",
   "metadata": {},
   "outputs": [
    {
     "name": "stdout",
     "output_type": "stream",
     "text": [
      "The sentiment is negative.\n"
     ]
    }
   ],
   "source": [
    "from textblob import TextBlob\n",
    "\n",
    "text=\" \".join(final_text)\n",
    "\n",
    "blob = TextBlob(text)\n",
    "\n",
    "# Calculate the sentiment of the text\n",
    "sentiment = blob.sentiment.polarity\n",
    "\n",
    "# Print the sentiment\n",
    "if sentiment > 0:\n",
    "    print(\"The sentiment is positive.\")\n",
    "elif sentiment == 0:\n",
    "    print(\"The sentiment is neutral.\")\n",
    "else:\n",
    "    print(\"The sentiment is negative.\")"
   ]
  },
  {
   "cell_type": "code",
   "execution_count": 13,
   "id": "9bcf8b48",
   "metadata": {},
   "outputs": [
    {
     "name": "stdout",
     "output_type": "stream",
     "text": [
      "800\n",
      "1031\n"
     ]
    }
   ],
   "source": [
    "positive_words_count = len([word for word, tag in blob.tags if TextBlob(word).sentiment.polarity > 0])\n",
    "negative_words_count = len([word for word, tag in blob.tags if TextBlob(word).sentiment.polarity < 0])\n",
    "print(positive_words_count)\n",
    "print(negative_words_count)"
   ]
  },
  {
   "cell_type": "code",
   "execution_count": 14,
   "id": "6f7458d7",
   "metadata": {},
   "outputs": [],
   "source": [
    "from textblob import TextBlob\n",
    "from textblob.sentiments import NaiveBayesAnalyzer, PatternAnalyzer"
   ]
  },
  {
   "cell_type": "code",
   "execution_count": 15,
   "id": "461f6831",
   "metadata": {},
   "outputs": [
    {
     "data": {
      "text/plain": [
       "Sentiment(polarity=0.02360986808018737, subjectivity=0.3705523036583183)"
      ]
     },
     "execution_count": 15,
     "metadata": {},
     "output_type": "execute_result"
    }
   ],
   "source": [
    "blob = TextBlob(data)\n",
    "blob.sentiment"
   ]
  },
  {
   "cell_type": "code",
   "execution_count": 16,
   "id": "3583626a",
   "metadata": {},
   "outputs": [
    {
     "data": {
      "text/plain": [
       "Sentiment(classification='pos', p_pos=1.0, p_neg=3.4663562899758685e-293)"
      ]
     },
     "execution_count": 16,
     "metadata": {},
     "output_type": "execute_result"
    }
   ],
   "source": [
    "blob = TextBlob(data, analyzer=NaiveBayesAnalyzer())\n",
    "blob.sentiment"
   ]
  },
  {
   "cell_type": "markdown",
   "id": "fe5ad218",
   "metadata": {},
   "source": [
    "### VADER"
   ]
  },
  {
   "cell_type": "code",
   "execution_count": 17,
   "id": "c3826bc4",
   "metadata": {},
   "outputs": [
    {
     "name": "stdout",
     "output_type": "stream",
     "text": [
      "Negative sentiment\n"
     ]
    }
   ],
   "source": [
    "from vaderSentiment.vaderSentiment import SentimentIntensityAnalyzer\n",
    "\n",
    "analyzer = SentimentIntensityAnalyzer() \n",
    "score = analyzer.polarity_scores(text)\n",
    "\n",
    "if score['compound'] > 0:\n",
    "    print('Positive sentiment')\n",
    "elif score['compound'] < 0:\n",
    "    print('Negative sentiment')\n",
    "else:\n",
    "    print('Neutral sentiment')"
   ]
  },
  {
   "cell_type": "code",
   "execution_count": 18,
   "id": "9142d5ba",
   "metadata": {
    "scrolled": false
   },
   "outputs": [
    {
     "name": "stdout",
     "output_type": "stream",
     "text": [
      "2532\n",
      "913\n"
     ]
    }
   ],
   "source": [
    "negative_words_count = len([word for word in text.split() if analyzer.polarity_scores(word)['compound'] < 0])\n",
    "positive_words_count = len([word for word in text.split() if analyzer.polarity_scores(word)['compound'] > 0])\n",
    "print(negative_words_count)\n",
    "print(positive_words_count)"
   ]
  },
  {
   "cell_type": "code",
   "execution_count": 19,
   "id": "547aa829",
   "metadata": {},
   "outputs": [
    {
     "name": "stdout",
     "output_type": "stream",
     "text": [
      "{'neg': 0.208, 'neu': 0.738, 'pos': 0.054, 'compound': -1.0}\n"
     ]
    }
   ],
   "source": [
    "analyzer = SentimentIntensityAnalyzer() \n",
    "vs = analyzer.polarity_scores(data)\n",
    "print(vs)"
   ]
  },
  {
   "cell_type": "code",
   "execution_count": null,
   "id": "9118db64",
   "metadata": {},
   "outputs": [],
   "source": []
  }
 ],
 "metadata": {
  "kernelspec": {
   "display_name": "Python 3 (ipykernel)",
   "language": "python",
   "name": "python3"
  },
  "language_info": {
   "codemirror_mode": {
    "name": "ipython",
    "version": 3
   },
   "file_extension": ".py",
   "mimetype": "text/x-python",
   "name": "python",
   "nbconvert_exporter": "python",
   "pygments_lexer": "ipython3",
   "version": "3.9.13"
  },
  "varInspector": {
   "cols": {
    "lenName": 16,
    "lenType": 16,
    "lenVar": 40
   },
   "kernels_config": {
    "python": {
     "delete_cmd_postfix": "",
     "delete_cmd_prefix": "del ",
     "library": "var_list.py",
     "varRefreshCmd": "print(var_dic_list())"
    },
    "r": {
     "delete_cmd_postfix": ") ",
     "delete_cmd_prefix": "rm(",
     "library": "var_list.r",
     "varRefreshCmd": "cat(var_dic_list()) "
    }
   },
   "types_to_exclude": [
    "module",
    "function",
    "builtin_function_or_method",
    "instance",
    "_Feature"
   ],
   "window_display": false
  }
 },
 "nbformat": 4,
 "nbformat_minor": 5
}
